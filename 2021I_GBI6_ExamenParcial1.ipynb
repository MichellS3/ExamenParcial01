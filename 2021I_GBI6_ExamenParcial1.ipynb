{
 "cells": [
  {
   "cell_type": "markdown",
   "metadata": {},
   "source": [
    "<img src=\"https://www.ikiam.edu.ec/img/logo-ikiam-grey.png\" width=300 height=240 />\n",
    "\n",
    "# EXAMEN PARCIAL 1\n",
    "\n",
    "## GBI6-2021II: BIOINFORMÁTICA\n",
    "\n",
    "**Shirley Michell Salcán Castillo** \n",
    "\n",
    "**11-01-2021**"
   ]
  },
  {
   "cell_type": "markdown",
   "metadata": {},
   "source": [
    "<font color='red'>NO AGREGUE NUEVAS CELDAS, UTILICE ÚNICAMENTE LAS QUE ESTÁN CREADAS</font>"
   ]
  },
  {
   "cell_type": "markdown",
   "metadata": {},
   "source": [
    "# 1. UNIX\n",
    "\n",
    "## Ejercicio 1\n",
    "**Para esta pregunta debe realizar previamente lo siguiente**\n",
    "\n",
    "1.- Imprimir el directorio de trabajo actual\n",
    "\n",
    "2.- Crear un directorio *test1*\n",
    "\n",
    "<font color='orange'>3.- No cambie de directorio, pero los items 4, 5 y 6 deben guardarse en el directorio creado en el paso 2. </font>\n",
    "\n",
    "4.- Crear el archivo *test2.txt*\n",
    "\n",
    "5.- Guardar el texto *Hola GBI6* en un archivo *test2.txt*\n",
    "\n",
    "6.- Guadar la instrucción *print (\"Hola GBI6\")* en el archivo *test1.py*\n",
    "    \n",
    "**Luego seleccione la instrucción que agregue el texto**\n",
    "*El examen parcial de GBI6 es hoy*\n",
    "**al archivo *test2.txt* sin reemplazar e imprima el contenido en la consola**\n",
    "\n",
    "<img src=\"data/Ejercicio 01.PNG\" width=600 height=450 />\n",
    "\n",
    "**\">>\"** permite agregar infromación sin reemplazar, mientras que test1/test2.txt es la dirección a donde será agregada la información. **La dirección de la agregación de texto, debe ser igual a la dirección de impresión de contenido, siempre y cuando no se cambie de directorio.**\n",
    "\n",
    "## Ejercicio 2\n",
    "**Luego seleccione la instrucción que permite enlistar el contenido (sin detalles) del directorio *test1***\n",
    "\n",
    "<img src=\"data/Ejercicio 02.PNG\" width=600 height=450 />\n",
    "\n",
    "El **\"/\"** es necesario cuando se va a en listar los archivos de un directorio que esta dentro de otro directorio. \n",
    "\n",
    "## Ejercicio 3\n",
    "**Seleccione la opción el código que imprime el texto: *Hola GBI6*** \n",
    "\n",
    "\n",
    "<img src=\"data/Ejercicio 03.PNG\" width=600 height=450 />\n",
    "\n",
    "El comando **echo** permite imprimir un texto\n",
    "\n",
    "## Ejercicio 4\n",
    "Resuelva el ejercicio **1.10.2 Hormone Levels in Baboons.**\n",
    "\n",
    "-Resuelva el ejercicio en un documento de nombre **ejercicio_1102.sh**\n",
    "\n",
    "-Cargue el documento **ejercicio_1102.sh** en GitHub utilizando **git push**.\n",
    "\n",
    "-Realice el video explicativo de la resolución ejercicio y guarde en YouTube en formato \"Público\" o \"Unlisted\", y pegue el enlace en el cuaderno de Jupyter\n",
    "\n",
    "\n"
   ]
  },
  {
   "cell_type": "code",
   "execution_count": 3,
   "metadata": {},
   "outputs": [
    {
     "data": {
      "text/html": [
       "<iframe width=\"560\" height=\"315\" src=\"https://www.youtube.com/embed/frS794EYn6Q\" title=\"YouTube video player\" frameborder=\"0\" allow=\"accelerometer; autoplay; clipboard-write; encrypted-media; gyroscope; picture-in-picture\" allowfullscreen></iframe>"
      ],
      "text/plain": [
       "<IPython.core.display.HTML object>"
      ]
     },
     "execution_count": 3,
     "metadata": {},
     "output_type": "execute_result"
    }
   ],
   "source": [
    "# Coloque aquí su video del ejercicio 4\n",
    "from IPython.display import HTML\n",
    "HTML('<iframe width=\"560\" height=\"315\" src=\"https://www.youtube.com/embed/frS794EYn6Q\" title=\"YouTube video player\" frameborder=\"0\" allow=\"accelerometer; autoplay; clipboard-write; encrypted-media; gyroscope; picture-in-picture\" allowfullscreen></iframe>')\n"
   ]
  },
  {
   "cell_type": "markdown",
   "metadata": {},
   "source": [
    "\n",
    "## Ejercicio 5\n",
    "\n",
    "Resuelva el ejercicio **1.10.1 Next Generation Sequencing Data**.\n",
    "\n",
    "-Resuelva el ejercicio en un documento de nombre **ejercicio_1101.sh**\n",
    "\n",
    "-Cargue el documento **ejercicio_1101.sh** en GitHub utilizando **git push**.\n",
    "\n",
    "-Realice el video explicativo de la resolución del ejercicio y guarde en YouTube en formato \"Público\" o \"Unlisted\", y pegue el enlace en el cuaderno de Jupyter."
   ]
  },
  {
   "cell_type": "code",
   "execution_count": 2,
   "metadata": {},
   "outputs": [
    {
     "data": {
      "text/html": [
       "<iframe width=\"560\" height=\"315\" src=\"https://www.youtube.com/embed/7QE931iTANw\" title=\"YouTube video player\" frameborder=\"0\" allow=\"accelerometer; autoplay; clipboard-write; encrypted-media; gyroscope; picture-in-picture\" allowfullscreen></iframe>"
      ],
      "text/plain": [
       "<IPython.core.display.HTML object>"
      ]
     },
     "execution_count": 2,
     "metadata": {},
     "output_type": "execute_result"
    }
   ],
   "source": [
    "# Coloque aquí su video del ejercicio 5\n",
    "from IPython.display import HTML\n",
    "HTML('<iframe width=\"560\" height=\"315\" src=\"https://www.youtube.com/embed/7QE931iTANw\" title=\"YouTube video player\" frameborder=\"0\" allow=\"accelerometer; autoplay; clipboard-write; encrypted-media; gyroscope; picture-in-picture\" allowfullscreen></iframe>')\n"
   ]
  },
  {
   "cell_type": "markdown",
   "metadata": {
    "jp-MarkdownHeadingCollapsed": true,
    "tags": []
   },
   "source": [
    "\n",
    "\n",
    "# 2. CONTROL DE LA VERSIÓN\n",
    "## Pregunta 6\n",
    "1. Cree en GitHub un repositorio de nombre ```GBI6_ExamenParcial1```. \n",
    "2. Cree un archivo ```Readme.md``` que debe tener lo siguiente: \n",
    "- Datos personales\n",
    "- Características del computador\n",
    "- Programas utilizados\n",
    "- Explicación de la data utilizada 4, 5 ,8 9 10\n",
    "\n",
    "\n",
    "## Pregunta 7\n",
    "1. Cada vez que resuelva un ejercicio (del 1 al 10), utilizando Git Bash, GitHub Desktop o Atom realice un *git push* con el mensaje: \n",
    "\n",
    "\n",
    "<font color='red'>Salcan Shirley ha resuelto el ejercicio __</font> \n",
    "\n",
    "2. Coloque aquí las capturas de pantalla para cada git push realizado desde Git Bash, GitHub Desktop o Atom. \n",
    "\n",
    "- Control de versión ejercicio 1\n",
    "\n",
    "<img src=\"data/Git Ejercicio 01.PNG\" width=600 height=450 />\n",
    "\n",
    "- Control de versión ejercicio 4\n",
    "\n",
    "<img src=\"data/Git Ejercicio 04.PNG\" width=600 height=450 />\n",
    "\n",
    "- Control de versión ejercicio 5\n",
    "\n",
    "<img src=\"data/Git Ejercicio 05.PNG\" width=600 height=450 />\n",
    "\n",
    "- Control de versión ejercicio 8\n",
    "\n",
    "<img src=\"data/Git Ejercicio 08.PNG\" width=600 height=450 />\n",
    "\n",
    "- Control de versión ejercicio 9\n",
    "\n",
    "<img src=\"data/Git Ejercicio 09.PNG\" width=600 height=450 />\n",
    "\n",
    "- Control de versión ejercicio 10\n",
    "\n",
    "<img src=\"data/Git Ejercicio 10.PNG\" width=600 height=450 />\n",
    "\n",
    "\n",
    "3. Cree un directorio de nombre ```data``` donde deben estar guardados: (i) la data utilizada y (ii) las capturas de pantalla de los ejercicios 1 al 3 y los git push del ejercicio 1 al 10. \n",
    "4. Inserte aquí el enlace de su repositorio (válido para el ejercicio 6 y 7): [GitHub Repository: GBI6_ExamenParcial1](https://github.com/MichellS3/GBI6_ExamenParcial1.git)."
   ]
  },
  {
   "cell_type": "markdown",
   "metadata": {},
   "source": [
    "# 3. INTRODUCCIÓN A PYTHON\n",
    "\n",
    "## Ejercicio 8\n",
    "\n",
    "**Para este ejercicio tiene que crear previamente lo siguiente:**\n",
    "\n",
    "Descargue la data \"SI Table 1\" (10080Table1.xls) de la página https://www.pnas.org/content/suppl/2006/12/27/0610080104.DC1 .Esta data corresponde a algunas características de sueño de mamíferos. Seleccione los 10 primeros registros de la columna \"Total sleep time, hr\" y cree una lista de nombre lista1."
   ]
  },
  {
   "cell_type": "code",
   "execution_count": 12,
   "metadata": {
    "scrolled": true
   },
   "outputs": [
    {
     "name": "stdout",
     "output_type": "stream",
     "text": [
      "13.08\n",
      "ikiam\n",
      "13.079999999999998\n",
      "13\n",
      "[14.9, 9.1]\n",
      "10.1\n"
     ]
    }
   ],
   "source": [
    "lista1=[8.6 ,18.0,19.4,13.7,11.1,10.1,10.3,15.6,14.9,9.1]\n",
    "\n",
    "#Literal 1\n",
    "lista1=[8.6 ,18.0,19.4,13.7,11.1,10.1,10.3,15.6,14.9,9.1]\n",
    "print (round(sum(lista1)/len(lista1),3))\n",
    "\n",
    "#Literal 2\n",
    "lista1=[8.6 ,18.0,19.4,13.7,11.1,10.1,10.3,15.6,14.9,9.1]\n",
    "lista1.append([\"gbi6\",\"bio1\",\"ikiam\"])\n",
    "print (lista1[-1][2])\n",
    "\n",
    "#Literal 3\n",
    "lista1=[8.6 ,18.0,19.4,13.7,11.1,10.1,10.3,15.6,14.9,9.1]\n",
    "print (sum(lista1)/len(lista1))\n",
    "\n",
    "#Literal 4\n",
    "lista1=[8.6 ,18.0,19.4,13.7,11.1,10.1,10.3,15.6,14.9,9.1]\n",
    "lista1.extend([\"gbi6\",\"bio1\",\"ikiam\"])\n",
    "print (len(lista1))\n",
    "\n",
    "#Literal 5\n",
    "lista1=[8.6 ,18.0,19.4,13.7,11.1,10.1,10.3,15.6,14.9,9.1]\n",
    "print (lista1[8:])\n",
    "\n",
    "#Literal 6\n",
    "lista1=[8.6 ,18.0,19.4,13.7,11.1,10.1,10.3,15.6,14.9,9.1]\n",
    "print (lista1[5])"
   ]
  },
  {
   "cell_type": "markdown",
   "metadata": {},
   "source": [
    "## Ejercicio 9\n",
    "\n",
    "**Para este ejercicio debe realizar lo siguiente**\n",
    "\n",
    "1.- Crear un diccionario de nombre **dic_genomas**, donde se tenga la información de la tabla 1 que se encuentra en  https://www.nature.com/scitable/topicpage/eukaryotic-genome-complexity-437/. \n",
    "\n",
    "2.- Utilice como \"key\" los valores especies de la columna \"Species and Common Name\" y las otras dos columnas ingrese como \"values\".\n",
    "\n",
    "3.- Luego de crear el diccionario, extraiga los valores de \"key\" a una lista de nombre **\"especies\"**\n",
    "\n",
    "4.- Extraiga los valores de \"value\" a una lista de nombre **\"genomas\"**"
   ]
  },
  {
   "cell_type": "code",
   "execution_count": 2,
   "metadata": {
    "scrolled": true
   },
   "outputs": [
    {
     "name": "stdout",
     "output_type": "stream",
     "text": [
      "Lista de especies\n",
      "dict_keys(['Saccharomyces cerevisiae (levadura unicelular en ciernes)', 'tricomonas vaginalis', 'Plasmodium falciparum (parásito unicelular de la malaria)', 'Caenorhabditis elegans (nematodo)', 'Drosophila melanogaster (mosca de la fruta)', 'Arabidopsis thaliana (mostaza; berro thale)', 'Oryza sativa (arroz)', 'Gallus gallus (pollo)', 'Canis familiaris (perro doméstico)', 'Mus musculus (ratón de laboratorio)', 'Homo sapiens (humano)'])\n",
      "\n",
      "Lista de genomas\n",
      "dict_values([['12 millones', '6,000'], ['160 millones', '60,000'], ['23 millones', '5,000'], ['95,5 millones', '18,000'], ['170 millones', '14,000'], ['125 millones', '25,000'], ['470 millones', '51,000'], ['1 mil millones', '20,000-23,000'], ['2.4 mil millones', '19,000'], ['2.5 billones', '30,000'], ['2.9 mil millones', '20,000-25,000']])\n"
     ]
    }
   ],
   "source": [
    "dic_genomas={'Saccharomyces cerevisiae (levadura unicelular en ciernes)':['12 millones','6,000'],\n",
    "            'tricomonas vaginalis':['160 millones','60,000'],\n",
    "            'Plasmodium falciparum (parásito unicelular de la malaria)':['23 millones','5,000'],\n",
    "            'Caenorhabditis elegans (nematodo)':['95,5 millones','18,000'],\n",
    "            'Drosophila melanogaster (mosca de la fruta)':['170 millones','14,000'],\n",
    "            'Arabidopsis thaliana (mostaza; berro thale)':['125 millones','25,000'],\n",
    "            'Oryza sativa (arroz)':['470 millones','51,000'],\n",
    "            'Gallus gallus (pollo)':['1 mil millones','20,000-23,000'],\n",
    "            'Canis familiaris (perro doméstico)':['2.4 mil millones','19,000'],\n",
    "            'Mus musculus (ratón de laboratorio)':['2.5 billones','30,000'],\n",
    "            'Homo sapiens (humano)':['2.9 mil millones','20,000-25,000']}\n",
    "print('Lista de especies')\n",
    "especies=dic_genomas.keys()\n",
    "print (especies)\n",
    "print ( )\n",
    "print('Lista de genomas')\n",
    "genomas=dic_genomas.values()\n",
    "print(genomas)"
   ]
  },
  {
   "cell_type": "markdown",
   "metadata": {},
   "source": [
    "## Ejercicio 10\n",
    "\n",
    "**Para este ejercicio se debe realizar lo siguiente:**\n",
    "\n",
    "1.- Crear un diccionario de nombre **dic_aminoacidos**, donde se tenga la información de la tabla que se encuentra en  http://www.russelllab.org/aas/aas.html.\n",
    "\n",
    "2.- Utilice como \"key\" los valores de la columna \"AA\" y las columnas \"Hits\" y \"%Abundance\" como \"values\".\n",
    "\n",
    "3.- Luego de crear el diccionario, extraiga los valores de \"key\" a una listta de nombre **\"aminoacidos\"**\n",
    "\n",
    "4.- Extraiga los valores de \"value\" a una lista de nombre **\"propiedades¨**"
   ]
  },
  {
   "cell_type": "code",
   "execution_count": 3,
   "metadata": {},
   "outputs": [
    {
     "name": "stdout",
     "output_type": "stream",
     "text": [
      "Lista de aminoacidos\n",
      "dict_keys(['Trp', 'Cys', 'His', 'Arg', 'Met', 'Tyr', 'Gln', 'Phe', 'Asp', 'Pro', 'Ala', 'Asn', 'Lys', 'Glu', 'Gly', 'Thr', 'Val', 'Ile', 'Ser', 'Leu'])\n",
      "\n",
      "Lista de propiedades\n",
      "dict_values([[1550, 1.34], [1905, 1.76], [1695, 2.26], [3093, 5.2], [1102, 2.32], [1525, 3.25], [1830, 3.96], [1616, 4.12], [1691, 5.12], [1598, 5.0], [2018, 7.34], [1103, 4.57], [1366, 5.81], [1471, 6.22], [1386, 6.89], [1147, 5.85], [1225, 6.48], [1033, 5.76], [1206, 7.38], [1127, 9.36]])\n"
     ]
    }
   ],
   "source": [
    "dic_aminoacidos={'Trp':[1550,1.34],\n",
    "                'Cys':[1905,1.76],\n",
    "                'His':[1695,2.26],\n",
    "                'Arg':[3093,5.20],\n",
    "                'Met':[1102,2.32],\n",
    "                'Tyr':[1525,3.25],\n",
    "                'Gln':[1830,3.96],\n",
    "                'Phe':[1616,4.12],\n",
    "                'Asp':[1691,5.12],\n",
    "                'Pro':[1598,5.00],\n",
    "                'Ala':[2018,7.34],\n",
    "                'Asn':[1103,4.57],\n",
    "                'Lys':[1366,5.81],\n",
    "                'Glu':[1471,6.22],\n",
    "                'Gly':[1386,6.89],\n",
    "                'Thr':[1147,5.85],\n",
    "                'Val':[1225,6.48],\n",
    "                'Ile':[1033,5.76],\n",
    "                'Ser':[1206,7.38],\n",
    "                'Leu':[1127,9.36]}\n",
    "print ('Lista de aminoacidos')\n",
    "aminoacidos=dic_aminoacidos.keys()\n",
    "print (aminoacidos)\n",
    "print ( )\n",
    "print ('Lista de propiedades')\n",
    "propiedades=dic_aminoacidos.values()\n",
    "print (propiedades)"
   ]
  },
  {
   "cell_type": "code",
   "execution_count": null,
   "metadata": {},
   "outputs": [],
   "source": []
  }
 ],
 "metadata": {
  "kernelspec": {
   "display_name": "Python 3",
   "language": "python",
   "name": "python3"
  },
  "language_info": {
   "codemirror_mode": {
    "name": "ipython",
    "version": 3
   },
   "file_extension": ".py",
   "mimetype": "text/x-python",
   "name": "python",
   "nbconvert_exporter": "python",
   "pygments_lexer": "ipython3",
   "version": "3.8.5"
  },
  "latex_envs": {
   "LaTeX_envs_menu_present": true,
   "autoclose": false,
   "autocomplete": true,
   "bibliofile": "biblio.bib",
   "cite_by": "apalike",
   "current_citInitial": 1,
   "eqLabelWithNumbers": true,
   "eqNumInitial": 1,
   "hotkeys": {
    "equation": "Ctrl-E",
    "itemize": "Ctrl-I"
   },
   "labels_anchors": false,
   "latex_user_defs": false,
   "report_style_numbering": false,
   "user_envs_cfg": false
  },
  "toc": {
   "base_numbering": 1,
   "nav_menu": {},
   "number_sections": true,
   "sideBar": false,
   "skip_h1_title": false,
   "title_cell": "Table of Contents",
   "title_sidebar": "Contents",
   "toc_cell": false,
   "toc_position": {
    "height": "1152.67px",
    "left": "41px",
    "top": "110px",
    "width": "253.458px"
   },
   "toc_section_display": true,
   "toc_window_display": false
  },
  "varInspector": {
   "cols": {
    "lenName": 16,
    "lenType": 16,
    "lenVar": 40
   },
   "kernels_config": {
    "python": {
     "delete_cmd_postfix": "",
     "delete_cmd_prefix": "del ",
     "library": "var_list.py",
     "varRefreshCmd": "print(var_dic_list())"
    },
    "r": {
     "delete_cmd_postfix": ") ",
     "delete_cmd_prefix": "rm(",
     "library": "var_list.r",
     "varRefreshCmd": "cat(var_dic_list()) "
    }
   },
   "types_to_exclude": [
    "module",
    "function",
    "builtin_function_or_method",
    "instance",
    "_Feature"
   ],
   "window_display": false
  }
 },
 "nbformat": 4,
 "nbformat_minor": 4
}
